{
 "cells": [
  {
   "cell_type": "markdown",
   "metadata": {},
   "source": [
    "# Gerekli Paketler Import Edilir"
   ]
  },
  {
   "cell_type": "code",
   "execution_count": 1,
   "metadata": {},
   "outputs": [],
   "source": [
    "import pandas as pd\n",
    "from lib import script\n",
    "from rich.console import Console"
   ]
  },
  {
   "cell_type": "markdown",
   "metadata": {},
   "source": [
    "# Gerekli bilgiler kullanıcıdan alınır"
   ]
  },
  {
   "cell_type": "markdown",
   "metadata": {},
   "source": []
  },
  {
   "cell_type": "code",
   "execution_count": 2,
   "metadata": {},
   "outputs": [],
   "source": [
    "target_url = input('URL (string): ')\n",
    "page_number = input('Page Number: (number)')"
   ]
  },
  {
   "cell_type": "markdown",
   "metadata": {},
   "source": [
    "# Veri Alma Operasyonunun Gerçekleştirilmesi"
   ]
  },
  {
   "cell_type": "code",
   "execution_count": 4,
   "metadata": {},
   "outputs": [
    {
     "data": {
      "text/html": [
       "<pre style=\"white-space:pre;overflow-x:auto;line-height:normal;font-family:Menlo,'DejaVu Sans Mono',consolas,'Courier New',monospace\">\n",
       "<span style=\"color: #800000; text-decoration-color: #800000\">Connection to </span><span style=\"color: #800000; text-decoration-color: #800000; text-decoration: underline\">https://theonlinedrugstore.com/hair-care/</span><span style=\"color: #800000; text-decoration-color: #800000\">  failed</span>\n",
       "\n",
       "</pre>\n"
      ],
      "text/plain": [
       "\n",
       "\u001b[31mConnection to \u001b[0m\u001b[4;31mhttps://theonlinedrugstore.com/hair-care/\u001b[0m\u001b[31m  failed\u001b[0m\n",
       "\n"
      ]
     },
     "metadata": {},
     "output_type": "display_data"
    },
    {
     "ename": "NameError",
     "evalue": "name 'exit' is not defined",
     "output_type": "error",
     "traceback": [
      "\u001b[0;31m---------------------------------------------------------------------------\u001b[0m",
      "\u001b[0;31mNameError\u001b[0m                                 Traceback (most recent call last)",
      "\u001b[1;32m/Users/karadenizemirr/Desktop/Projects/ayytarade_bionluk/app.ipynb Cell 7\u001b[0m line \u001b[0;36m1\n\u001b[0;32m----> <a href='vscode-notebook-cell:/Users/karadenizemirr/Desktop/Projects/ayytarade_bionluk/app.ipynb#W6sZmlsZQ%3D%3D?line=0'>1</a>\u001b[0m sc \u001b[39m=\u001b[39m script\u001b[39m.\u001b[39;49mScraper(\u001b[39mstr\u001b[39;49m(target_url), \u001b[39mint\u001b[39;49m(page_number))\n",
      "File \u001b[0;32m~/Desktop/Projects/ayytarade_bionluk/lib/script.py:24\u001b[0m, in \u001b[0;36mScraper.__init__\u001b[0;34m(self, url, counter)\u001b[0m\n\u001b[1;32m     22\u001b[0m \u001b[39melse\u001b[39;00m:\n\u001b[1;32m     23\u001b[0m     \u001b[39mself\u001b[39m\u001b[39m.\u001b[39mconsole\u001b[39m.\u001b[39mprint(\u001b[39mf\u001b[39m\u001b[39m\"\u001b[39m\u001b[39m\\n\u001b[39;00m\u001b[39m[red]Connection to \u001b[39m\u001b[39m{\u001b[39;00m\u001b[39mself\u001b[39m\u001b[39m.\u001b[39murl\u001b[39m}\u001b[39;00m\u001b[39m failed[/red]\u001b[39m\u001b[39m\\n\u001b[39;00m\u001b[39m\"\u001b[39m)\n\u001b[0;32m---> 24\u001b[0m     exit()\n",
      "\u001b[0;31mNameError\u001b[0m: name 'exit' is not defined"
     ]
    }
   ],
   "source": [
    "sc = script.Scraper(str(target_url), int(page_number))"
   ]
  },
  {
   "cell_type": "code",
   "execution_count": 4,
   "metadata": {},
   "outputs": [
    {
     "data": {
      "text/html": [
       "<pre style=\"white-space:pre;overflow-x:auto;line-height:normal;font-family:Menlo,'DejaVu Sans Mono',consolas,'Courier New',monospace\"><span style=\"color: #008000; text-decoration-color: #008000; font-weight: bold\">Found </span><span style=\"color: #000080; text-decoration-color: #000080; font-weight: bold\">12</span><span style=\"color: #008000; text-decoration-color: #008000; font-weight: bold\"> products</span>\n",
       "\n",
       "</pre>\n"
      ],
      "text/plain": [
       "\u001b[1;32mFound \u001b[0m\u001b[1;34m12\u001b[0m\u001b[1;32m products\u001b[0m\n",
       "\n"
      ]
     },
     "metadata": {},
     "output_type": "display_data"
    },
    {
     "data": {
      "text/html": [
       "<pre style=\"white-space:pre;overflow-x:auto;line-height:normal;font-family:Menlo,'DejaVu Sans Mono',consolas,'Courier New',monospace\"><span style=\"color: #008000; text-decoration-color: #008000; font-weight: bold\">Product </span><span style=\"color: #000080; text-decoration-color: #000080; font-weight: bold\">Free &amp; Clear Shampoo, Sensitive Skin - </span><span style=\"color: #000080; text-decoration-color: #000080; font-weight: bold\">12</span><span style=\"color: #000080; text-decoration-color: #000080; font-weight: bold\"> oz</span><span style=\"color: #008000; text-decoration-color: #008000; font-weight: bold\"> scraped</span>\n",
       "\n",
       "</pre>\n"
      ],
      "text/plain": [
       "\u001b[1;32mProduct \u001b[0m\u001b[1;34mFree & Clear Shampoo, Sensitive Skin - \u001b[0m\u001b[1;34m12\u001b[0m\u001b[1;34m oz\u001b[0m\u001b[1;32m scraped\u001b[0m\n",
       "\n"
      ]
     },
     "metadata": {},
     "output_type": "display_data"
    },
    {
     "name": "stdout",
     "output_type": "stream",
     "text": [
      "object of type 'NoneType' has no len()\n"
     ]
    },
    {
     "data": {
      "text/html": [
       "<pre style=\"white-space:pre;overflow-x:auto;line-height:normal;font-family:Menlo,'DejaVu Sans Mono',consolas,'Courier New',monospace\"><span style=\"color: #008000; text-decoration-color: #008000; font-weight: bold\">Product </span><span style=\"color: #000080; text-decoration-color: #000080; font-weight: bold\">Brylcreem Brilliantly Classic Hair Cream - </span><span style=\"color: #000080; text-decoration-color: #000080; font-weight: bold\">5.5</span><span style=\"color: #000080; text-decoration-color: #000080; font-weight: bold\"> oz</span><span style=\"color: #008000; text-decoration-color: #008000; font-weight: bold\"> scraped</span>\n",
       "\n",
       "</pre>\n"
      ],
      "text/plain": [
       "\u001b[1;32mProduct \u001b[0m\u001b[1;34mBrylcreem Brilliantly Classic Hair Cream - \u001b[0m\u001b[1;34m5.5\u001b[0m\u001b[1;34m oz\u001b[0m\u001b[1;32m scraped\u001b[0m\n",
       "\n"
      ]
     },
     "metadata": {},
     "output_type": "display_data"
    },
    {
     "data": {
      "text/html": [
       "<pre style=\"white-space:pre;overflow-x:auto;line-height:normal;font-family:Menlo,'DejaVu Sans Mono',consolas,'Courier New',monospace\"><span style=\"color: #008000; text-decoration-color: #008000; font-weight: bold\">Product </span><span style=\"color: #000080; text-decoration-color: #000080; font-weight: bold\">VO5 Hair Spray Aerosol Unscented Hard-to-Hold - </span><span style=\"color: #000080; text-decoration-color: #000080; font-weight: bold\">8.5</span><span style=\"color: #000080; text-decoration-color: #000080; font-weight: bold\"> oz</span><span style=\"color: #008000; text-decoration-color: #008000; font-weight: bold\"> scraped</span>\n",
       "\n",
       "</pre>\n"
      ],
      "text/plain": [
       "\u001b[1;32mProduct \u001b[0m\u001b[1;34mVO5 Hair Spray Aerosol Unscented Hard-to-Hold - \u001b[0m\u001b[1;34m8.5\u001b[0m\u001b[1;34m oz\u001b[0m\u001b[1;32m scraped\u001b[0m\n",
       "\n"
      ]
     },
     "metadata": {},
     "output_type": "display_data"
    },
    {
     "data": {
      "text/html": [
       "<pre style=\"white-space:pre;overflow-x:auto;line-height:normal;font-family:Menlo,'DejaVu Sans Mono',consolas,'Courier New',monospace\"><span style=\"color: #008000; text-decoration-color: #008000; font-weight: bold\">Product </span><span style=\"color: #000080; text-decoration-color: #000080; font-weight: bold\">Vanicream Hair Gel For Sensitive Skin - </span><span style=\"color: #000080; text-decoration-color: #000080; font-weight: bold\">7</span><span style=\"color: #000080; text-decoration-color: #000080; font-weight: bold\"> oz</span><span style=\"color: #008000; text-decoration-color: #008000; font-weight: bold\"> scraped</span>\n",
       "\n",
       "</pre>\n"
      ],
      "text/plain": [
       "\u001b[1;32mProduct \u001b[0m\u001b[1;34mVanicream Hair Gel For Sensitive Skin - \u001b[0m\u001b[1;34m7\u001b[0m\u001b[1;34m oz\u001b[0m\u001b[1;32m scraped\u001b[0m\n",
       "\n"
      ]
     },
     "metadata": {},
     "output_type": "display_data"
    },
    {
     "data": {
      "text/html": [
       "<pre style=\"white-space:pre;overflow-x:auto;line-height:normal;font-family:Menlo,'DejaVu Sans Mono',consolas,'Courier New',monospace\"><span style=\"color: #008000; text-decoration-color: #008000; font-weight: bold\">Product </span><span style=\"color: #000080; text-decoration-color: #000080; font-weight: bold\">Vanicream Conditioner For Sensitive Skin - </span><span style=\"color: #000080; text-decoration-color: #000080; font-weight: bold\">12</span><span style=\"color: #000080; text-decoration-color: #000080; font-weight: bold\"> oz</span><span style=\"color: #008000; text-decoration-color: #008000; font-weight: bold\"> scraped</span>\n",
       "\n",
       "</pre>\n"
      ],
      "text/plain": [
       "\u001b[1;32mProduct \u001b[0m\u001b[1;34mVanicream Conditioner For Sensitive Skin - \u001b[0m\u001b[1;34m12\u001b[0m\u001b[1;34m oz\u001b[0m\u001b[1;32m scraped\u001b[0m\n",
       "\n"
      ]
     },
     "metadata": {},
     "output_type": "display_data"
    },
    {
     "data": {
      "text/html": [
       "<pre style=\"white-space:pre;overflow-x:auto;line-height:normal;font-family:Menlo,'DejaVu Sans Mono',consolas,'Courier New',monospace\"><span style=\"color: #008000; text-decoration-color: #008000; font-weight: bold\">Product </span><span style=\"color: #000080; text-decoration-color: #000080; font-weight: bold\">VO5 Conditioning Hairdressing Gray/White/Silver Blonde Hair - </span><span style=\"color: #000080; text-decoration-color: #000080; font-weight: bold\">1.5</span><span style=\"color: #000080; text-decoration-color: #000080; font-weight: bold\"> oz</span><span style=\"color: #008000; text-decoration-color: #008000; font-weight: bold\"> scraped</span>\n",
       "\n",
       "</pre>\n"
      ],
      "text/plain": [
       "\u001b[1;32mProduct \u001b[0m\u001b[1;34mVO5 Conditioning Hairdressing Gray/White/Silver Blonde Hair - \u001b[0m\u001b[1;34m1.5\u001b[0m\u001b[1;34m oz\u001b[0m\u001b[1;32m scraped\u001b[0m\n",
       "\n"
      ]
     },
     "metadata": {},
     "output_type": "display_data"
    },
    {
     "data": {
      "text/html": [
       "<pre style=\"white-space:pre;overflow-x:auto;line-height:normal;font-family:Menlo,'DejaVu Sans Mono',consolas,'Courier New',monospace\"><span style=\"color: #008000; text-decoration-color: #008000; font-weight: bold\">Product </span><span style=\"color: #000080; text-decoration-color: #000080; font-weight: bold\">Vanicream Styling Finishing Hair Spray, Firm Hold - </span><span style=\"color: #000080; text-decoration-color: #000080; font-weight: bold\">8</span><span style=\"color: #000080; text-decoration-color: #000080; font-weight: bold\"> oz</span><span style=\"color: #008000; text-decoration-color: #008000; font-weight: bold\"> scraped</span>\n",
       "\n",
       "</pre>\n"
      ],
      "text/plain": [
       "\u001b[1;32mProduct \u001b[0m\u001b[1;34mVanicream Styling Finishing Hair Spray, Firm Hold - \u001b[0m\u001b[1;34m8\u001b[0m\u001b[1;34m oz\u001b[0m\u001b[1;32m scraped\u001b[0m\n",
       "\n"
      ]
     },
     "metadata": {},
     "output_type": "display_data"
    },
    {
     "data": {
      "text/html": [
       "<pre style=\"white-space:pre;overflow-x:auto;line-height:normal;font-family:Menlo,'DejaVu Sans Mono',consolas,'Courier New',monospace\"><span style=\"color: #008000; text-decoration-color: #008000; font-weight: bold\">Product </span><span style=\"color: #000080; text-decoration-color: #000080; font-weight: bold\">DHS Zinc Shampoo Pyrithione Zinc </span><span style=\"color: #000080; text-decoration-color: #000080; font-weight: bold\">2</span><span style=\"color: #000080; text-decoration-color: #000080; font-weight: bold\">% - </span><span style=\"color: #000080; text-decoration-color: #000080; font-weight: bold\">16</span><span style=\"color: #000080; text-decoration-color: #000080; font-weight: bold\"> oz</span><span style=\"color: #008000; text-decoration-color: #008000; font-weight: bold\"> scraped</span>\n",
       "\n",
       "</pre>\n"
      ],
      "text/plain": [
       "\u001b[1;32mProduct \u001b[0m\u001b[1;34mDHS Zinc Shampoo Pyrithione Zinc \u001b[0m\u001b[1;34m2\u001b[0m\u001b[1;34m% - \u001b[0m\u001b[1;34m16\u001b[0m\u001b[1;34m oz\u001b[0m\u001b[1;32m scraped\u001b[0m\n",
       "\n"
      ]
     },
     "metadata": {},
     "output_type": "display_data"
    },
    {
     "data": {
      "text/html": [
       "<pre style=\"white-space:pre;overflow-x:auto;line-height:normal;font-family:Menlo,'DejaVu Sans Mono',consolas,'Courier New',monospace\"><span style=\"color: #008000; text-decoration-color: #008000; font-weight: bold\">Product </span><span style=\"color: #000080; text-decoration-color: #000080; font-weight: bold\">Ogilvie Home Perm The Original Normal Hair With Extra Body</span><span style=\"color: #008000; text-decoration-color: #008000; font-weight: bold\"> scraped</span>\n",
       "\n",
       "</pre>\n"
      ],
      "text/plain": [
       "\u001b[1;32mProduct \u001b[0m\u001b[1;34mOgilvie Home Perm The Original Normal Hair With Extra Body\u001b[0m\u001b[1;32m scraped\u001b[0m\n",
       "\n"
      ]
     },
     "metadata": {},
     "output_type": "display_data"
    },
    {
     "data": {
      "text/html": [
       "<pre style=\"white-space:pre;overflow-x:auto;line-height:normal;font-family:Menlo,'DejaVu Sans Mono',consolas,'Courier New',monospace\"><span style=\"color: #008000; text-decoration-color: #008000; font-weight: bold\">Product </span><span style=\"color: #000080; text-decoration-color: #000080; font-weight: bold\">DHS Clear Shampoo Fragrance Free - </span><span style=\"color: #000080; text-decoration-color: #000080; font-weight: bold\">16</span><span style=\"color: #000080; text-decoration-color: #000080; font-weight: bold\"> oz</span><span style=\"color: #008000; text-decoration-color: #008000; font-weight: bold\"> scraped</span>\n",
       "\n",
       "</pre>\n"
      ],
      "text/plain": [
       "\u001b[1;32mProduct \u001b[0m\u001b[1;34mDHS Clear Shampoo Fragrance Free - \u001b[0m\u001b[1;34m16\u001b[0m\u001b[1;34m oz\u001b[0m\u001b[1;32m scraped\u001b[0m\n",
       "\n"
      ]
     },
     "metadata": {},
     "output_type": "display_data"
    },
    {
     "data": {
      "text/html": [
       "<pre style=\"white-space:pre;overflow-x:auto;line-height:normal;font-family:Menlo,'DejaVu Sans Mono',consolas,'Courier New',monospace\"><span style=\"color: #008000; text-decoration-color: #008000; font-weight: bold\">Product </span><span style=\"color: #000080; text-decoration-color: #000080; font-weight: bold\">Wildroot Hair Groom Original Liquid - </span><span style=\"color: #000080; text-decoration-color: #000080; font-weight: bold\">8</span><span style=\"color: #000080; text-decoration-color: #000080; font-weight: bold\"> oz</span><span style=\"color: #008000; text-decoration-color: #008000; font-weight: bold\"> scraped</span>\n",
       "\n",
       "</pre>\n"
      ],
      "text/plain": [
       "\u001b[1;32mProduct \u001b[0m\u001b[1;34mWildroot Hair Groom Original Liquid - \u001b[0m\u001b[1;34m8\u001b[0m\u001b[1;34m oz\u001b[0m\u001b[1;32m scraped\u001b[0m\n",
       "\n"
      ]
     },
     "metadata": {},
     "output_type": "display_data"
    }
   ],
   "source": [
    "data = sc.run()"
   ]
  },
  {
   "cell_type": "code",
   "execution_count": 5,
   "metadata": {},
   "outputs": [
    {
     "data": {
      "text/plain": [
       "[{'product_name': 'Free & Clear Shampoo, Sensitive Skin - 12 oz',\n",
       "  'product_upc': '345334200123',\n",
       "  'product_price': '$8.50',\n",
       "  'product_stock': '124',\n",
       "  'product_image': 'https://cdn11.bigcommerce.com/s-fe8s4uj/images/stencil/608x608/products/3439/92098/18895341__21641.1682361173.jpg?c=2'},\n",
       " None,\n",
       " {'product_name': 'Brylcreem Brilliantly Classic Hair Cream - 5.5 oz',\n",
       "  'product_upc': '011509311603',\n",
       "  'product_price': '$5.68',\n",
       "  'product_stock': '1076',\n",
       "  'product_image': 'https://cdn11.bigcommerce.com/s-fe8s4uj/images/stencil/608x608/products/58601/127351/guest_bcf67dac-2aae-4a98-9215-056d152888eb__67390.1682359230.jpg?c=2'},\n",
       " {'product_name': 'VO5 Hair Spray Aerosol Unscented Hard-to-Hold - 8.5 oz',\n",
       "  'product_upc': '816559011738',\n",
       "  'product_price': '$4.02',\n",
       "  'product_stock': '45',\n",
       "  'product_image': 'https://cdn11.bigcommerce.com/s-fe8s4uj/images/stencil/608x608/products/60523/129279/1800929__1__51545.1689033274.jpg?c=2'},\n",
       " {'product_name': 'Vanicream Hair Gel For Sensitive Skin - 7 oz',\n",
       "  'product_upc': '345334240075',\n",
       "  'product_price': '$7.51',\n",
       "  'product_stock': '449',\n",
       "  'product_image': 'https://cdn11.bigcommerce.com/s-fe8s4uj/images/stencil/608x608/products/1258/92009/13415021__12735.1682359634.jpg?c=2'},\n",
       " {'product_name': 'Vanicream Conditioner For Sensitive Skin - 12 oz',\n",
       "  'product_upc': '345334210122',\n",
       "  'product_price': '$8.50',\n",
       "  'product_stock': '80',\n",
       "  'product_image': 'https://cdn11.bigcommerce.com/s-fe8s4uj/images/stencil/608x608/products/3440/91215/1889542__1__51054.1689279622.jpg?c=2'},\n",
       " {'product_name': 'VO5 Conditioning Hairdressing Gray/White/Silver Blonde Hair - 1.5 oz',\n",
       "  'product_upc': '816559011851',\n",
       "  'product_price': '$3.67',\n",
       "  'product_stock': '57',\n",
       "  'product_image': 'https://cdn11.bigcommerce.com/s-fe8s4uj/images/stencil/608x608/products/236/88729/1800945__1__85749.1682361555.jpg?c=2'},\n",
       " {'product_name': 'Vanicream Styling Finishing Hair Spray, Firm Hold - 8 oz',\n",
       "  'product_upc': '345334231080',\n",
       "  'product_price': '$9.14',\n",
       "  'product_stock': '22',\n",
       "  'product_image': 'https://cdn11.bigcommerce.com/s-fe8s4uj/images/stencil/608x608/products/2899/89928/17881401__62187.1682359685.jpg?c=2'},\n",
       " {'product_name': 'DHS Zinc Shampoo Pyrithione Zinc 2% - 16 oz',\n",
       "  'product_upc': '300960735166',\n",
       "  'product_price': '$15.78',\n",
       "  'product_stock': '12',\n",
       "  'product_image': 'https://cdn11.bigcommerce.com/s-fe8s4uj/images/stencil/608x608/products/1579/89105/2027589__1__84811.1682359755.jpg?c=2'},\n",
       " {'product_name': 'Ogilvie Home Perm The Original Normal Hair With Extra Body',\n",
       "  'product_upc': '827755001003',\n",
       "  'product_price': '$6.85',\n",
       "  'product_stock': '1',\n",
       "  'product_image': 'https://cdn11.bigcommerce.com/s-fe8s4uj/images/stencil/608x608/products/28428/92814/13138401__23628.1682359324.jpg?c=2'},\n",
       " {'product_name': 'DHS Clear Shampoo Fragrance Free - 16 oz',\n",
       "  'product_upc': '300960725167',\n",
       "  'product_price': '$14.47',\n",
       "  'product_stock': '11',\n",
       "  'product_image': 'https://cdn11.bigcommerce.com/s-fe8s4uj/images/stencil/608x608/products/1129/90870/1314384__1__96584.1682359167.jpg?c=2'},\n",
       " {'product_name': 'Wildroot Hair Groom Original Liquid - 8 oz',\n",
       "  'product_upc': '011169718804',\n",
       "  'product_price': '$8.55',\n",
       "  'product_stock': '40',\n",
       "  'product_image': 'https://cdn11.bigcommerce.com/s-fe8s4uj/images/stencil/608x608/products/17823/88290/3478328__1__31239.1682366917.jpg?c=2'}]"
      ]
     },
     "execution_count": 5,
     "metadata": {},
     "output_type": "execute_result"
    }
   ],
   "source": [
    "data"
   ]
  },
  {
   "cell_type": "code",
   "execution_count": 11,
   "metadata": {},
   "outputs": [],
   "source": [
    "clean_data = []\n",
    "for d in data:\n",
    "    if d is not None:\n",
    "        clean_data.append(d)"
   ]
  },
  {
   "cell_type": "code",
   "execution_count": 12,
   "metadata": {},
   "outputs": [],
   "source": [
    "df = pd.DataFrame(clean_data)"
   ]
  },
  {
   "cell_type": "code",
   "execution_count": 13,
   "metadata": {},
   "outputs": [
    {
     "data": {
      "text/html": [
       "<div>\n",
       "<style scoped>\n",
       "    .dataframe tbody tr th:only-of-type {\n",
       "        vertical-align: middle;\n",
       "    }\n",
       "\n",
       "    .dataframe tbody tr th {\n",
       "        vertical-align: top;\n",
       "    }\n",
       "\n",
       "    .dataframe thead th {\n",
       "        text-align: right;\n",
       "    }\n",
       "</style>\n",
       "<table border=\"1\" class=\"dataframe\">\n",
       "  <thead>\n",
       "    <tr style=\"text-align: right;\">\n",
       "      <th></th>\n",
       "      <th>product_name</th>\n",
       "      <th>product_upc</th>\n",
       "      <th>product_price</th>\n",
       "      <th>product_stock</th>\n",
       "      <th>product_image</th>\n",
       "    </tr>\n",
       "  </thead>\n",
       "  <tbody>\n",
       "    <tr>\n",
       "      <th>0</th>\n",
       "      <td>Free &amp; Clear Shampoo, Sensitive Skin - 12 oz</td>\n",
       "      <td>345334200123</td>\n",
       "      <td>$8.50</td>\n",
       "      <td>124</td>\n",
       "      <td>https://cdn11.bigcommerce.com/s-fe8s4uj/images...</td>\n",
       "    </tr>\n",
       "    <tr>\n",
       "      <th>1</th>\n",
       "      <td>Brylcreem Brilliantly Classic Hair Cream - 5.5 oz</td>\n",
       "      <td>011509311603</td>\n",
       "      <td>$5.68</td>\n",
       "      <td>1076</td>\n",
       "      <td>https://cdn11.bigcommerce.com/s-fe8s4uj/images...</td>\n",
       "    </tr>\n",
       "    <tr>\n",
       "      <th>2</th>\n",
       "      <td>VO5 Hair Spray Aerosol Unscented Hard-to-Hold ...</td>\n",
       "      <td>816559011738</td>\n",
       "      <td>$4.02</td>\n",
       "      <td>45</td>\n",
       "      <td>https://cdn11.bigcommerce.com/s-fe8s4uj/images...</td>\n",
       "    </tr>\n",
       "    <tr>\n",
       "      <th>3</th>\n",
       "      <td>Vanicream Hair Gel For Sensitive Skin - 7 oz</td>\n",
       "      <td>345334240075</td>\n",
       "      <td>$7.51</td>\n",
       "      <td>449</td>\n",
       "      <td>https://cdn11.bigcommerce.com/s-fe8s4uj/images...</td>\n",
       "    </tr>\n",
       "    <tr>\n",
       "      <th>4</th>\n",
       "      <td>Vanicream Conditioner For Sensitive Skin - 12 oz</td>\n",
       "      <td>345334210122</td>\n",
       "      <td>$8.50</td>\n",
       "      <td>80</td>\n",
       "      <td>https://cdn11.bigcommerce.com/s-fe8s4uj/images...</td>\n",
       "    </tr>\n",
       "    <tr>\n",
       "      <th>5</th>\n",
       "      <td>VO5 Conditioning Hairdressing Gray/White/Silve...</td>\n",
       "      <td>816559011851</td>\n",
       "      <td>$3.67</td>\n",
       "      <td>57</td>\n",
       "      <td>https://cdn11.bigcommerce.com/s-fe8s4uj/images...</td>\n",
       "    </tr>\n",
       "    <tr>\n",
       "      <th>6</th>\n",
       "      <td>Vanicream Styling Finishing Hair Spray, Firm H...</td>\n",
       "      <td>345334231080</td>\n",
       "      <td>$9.14</td>\n",
       "      <td>22</td>\n",
       "      <td>https://cdn11.bigcommerce.com/s-fe8s4uj/images...</td>\n",
       "    </tr>\n",
       "    <tr>\n",
       "      <th>7</th>\n",
       "      <td>DHS Zinc Shampoo Pyrithione Zinc 2% - 16 oz</td>\n",
       "      <td>300960735166</td>\n",
       "      <td>$15.78</td>\n",
       "      <td>12</td>\n",
       "      <td>https://cdn11.bigcommerce.com/s-fe8s4uj/images...</td>\n",
       "    </tr>\n",
       "    <tr>\n",
       "      <th>8</th>\n",
       "      <td>Ogilvie Home Perm The Original Normal Hair Wit...</td>\n",
       "      <td>827755001003</td>\n",
       "      <td>$6.85</td>\n",
       "      <td>1</td>\n",
       "      <td>https://cdn11.bigcommerce.com/s-fe8s4uj/images...</td>\n",
       "    </tr>\n",
       "    <tr>\n",
       "      <th>9</th>\n",
       "      <td>DHS Clear Shampoo Fragrance Free - 16 oz</td>\n",
       "      <td>300960725167</td>\n",
       "      <td>$14.47</td>\n",
       "      <td>11</td>\n",
       "      <td>https://cdn11.bigcommerce.com/s-fe8s4uj/images...</td>\n",
       "    </tr>\n",
       "    <tr>\n",
       "      <th>10</th>\n",
       "      <td>Wildroot Hair Groom Original Liquid - 8 oz</td>\n",
       "      <td>011169718804</td>\n",
       "      <td>$8.55</td>\n",
       "      <td>40</td>\n",
       "      <td>https://cdn11.bigcommerce.com/s-fe8s4uj/images...</td>\n",
       "    </tr>\n",
       "  </tbody>\n",
       "</table>\n",
       "</div>"
      ],
      "text/plain": [
       "                                         product_name   product_upc  \\\n",
       "0        Free & Clear Shampoo, Sensitive Skin - 12 oz  345334200123   \n",
       "1   Brylcreem Brilliantly Classic Hair Cream - 5.5 oz  011509311603   \n",
       "2   VO5 Hair Spray Aerosol Unscented Hard-to-Hold ...  816559011738   \n",
       "3        Vanicream Hair Gel For Sensitive Skin - 7 oz  345334240075   \n",
       "4    Vanicream Conditioner For Sensitive Skin - 12 oz  345334210122   \n",
       "5   VO5 Conditioning Hairdressing Gray/White/Silve...  816559011851   \n",
       "6   Vanicream Styling Finishing Hair Spray, Firm H...  345334231080   \n",
       "7         DHS Zinc Shampoo Pyrithione Zinc 2% - 16 oz  300960735166   \n",
       "8   Ogilvie Home Perm The Original Normal Hair Wit...  827755001003   \n",
       "9            DHS Clear Shampoo Fragrance Free - 16 oz  300960725167   \n",
       "10         Wildroot Hair Groom Original Liquid - 8 oz  011169718804   \n",
       "\n",
       "   product_price product_stock  \\\n",
       "0          $8.50           124   \n",
       "1          $5.68          1076   \n",
       "2          $4.02            45   \n",
       "3          $7.51           449   \n",
       "4          $8.50            80   \n",
       "5          $3.67            57   \n",
       "6          $9.14            22   \n",
       "7         $15.78            12   \n",
       "8          $6.85             1   \n",
       "9         $14.47            11   \n",
       "10         $8.55            40   \n",
       "\n",
       "                                        product_image  \n",
       "0   https://cdn11.bigcommerce.com/s-fe8s4uj/images...  \n",
       "1   https://cdn11.bigcommerce.com/s-fe8s4uj/images...  \n",
       "2   https://cdn11.bigcommerce.com/s-fe8s4uj/images...  \n",
       "3   https://cdn11.bigcommerce.com/s-fe8s4uj/images...  \n",
       "4   https://cdn11.bigcommerce.com/s-fe8s4uj/images...  \n",
       "5   https://cdn11.bigcommerce.com/s-fe8s4uj/images...  \n",
       "6   https://cdn11.bigcommerce.com/s-fe8s4uj/images...  \n",
       "7   https://cdn11.bigcommerce.com/s-fe8s4uj/images...  \n",
       "8   https://cdn11.bigcommerce.com/s-fe8s4uj/images...  \n",
       "9   https://cdn11.bigcommerce.com/s-fe8s4uj/images...  \n",
       "10  https://cdn11.bigcommerce.com/s-fe8s4uj/images...  "
      ]
     },
     "execution_count": 13,
     "metadata": {},
     "output_type": "execute_result"
    }
   ],
   "source": [
    "df"
   ]
  },
  {
   "cell_type": "markdown",
   "metadata": {},
   "source": [
    "# Excel Olarak Verinin Dışa Aktarılması"
   ]
  },
  {
   "cell_type": "code",
   "execution_count": 15,
   "metadata": {},
   "outputs": [],
   "source": [
    "df.to_excel('data.xlsx')"
   ]
  },
  {
   "cell_type": "code",
   "execution_count": null,
   "metadata": {},
   "outputs": [],
   "source": []
  }
 ],
 "metadata": {
  "kernelspec": {
   "display_name": "env",
   "language": "python",
   "name": "python3"
  },
  "language_info": {
   "codemirror_mode": {
    "name": "ipython",
    "version": 3
   },
   "file_extension": ".py",
   "mimetype": "text/x-python",
   "name": "python",
   "nbconvert_exporter": "python",
   "pygments_lexer": "ipython3",
   "version": "3.11.5"
  },
  "orig_nbformat": 4
 },
 "nbformat": 4,
 "nbformat_minor": 2
}
